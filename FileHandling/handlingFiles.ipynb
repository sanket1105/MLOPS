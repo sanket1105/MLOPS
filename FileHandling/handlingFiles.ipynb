{
 "cells": [
  {
   "cell_type": "code",
   "execution_count": 1,
   "metadata": {},
   "outputs": [
    {
     "name": "stdout",
     "output_type": "stream",
     "text": [
      "123654789\n",
      "Hello I am Sanket\n",
      "Nice to meet you\n",
      "\n"
     ]
    }
   ],
   "source": [
    "# read thw whole file\n",
    "\n",
    "with open('examples.txt','r') as file:\n",
    "    context = file.read()\n",
    "    print(context)"
   ]
  },
  {
   "cell_type": "code",
   "execution_count": 6,
   "metadata": {},
   "outputs": [
    {
     "name": "stdout",
     "output_type": "stream",
     "text": [
      "123654789\n",
      "Hello I am Sanket\n",
      "Nice to meet you\n"
     ]
    }
   ],
   "source": [
    "## read line by line\n",
    "\n",
    "with open('examples.txt','r') as file:\n",
    "    for line in file:\n",
    "        print(line.strip())"
   ]
  },
  {
   "cell_type": "code",
   "execution_count": 1,
   "metadata": {},
   "outputs": [
    {
     "name": "stdout",
     "output_type": "stream",
     "text": [
      "Hello World!\n",
      "This is a new line!\n"
     ]
    }
   ],
   "source": [
    "## writing in examples.txt\n",
    "## if you just use write, it will overwrite everrything\n",
    "\n",
    "with open('examples.txt','w') as file:\n",
    "    file.write(\"Hello World! \\n\")\n",
    "    file.write(\"This is a new line!\")\n",
    "    \n",
    "with open('examples.txt','r') as file:\n",
    "    for line in file:\n",
    "        print(line.strip())\n",
    "    "
   ]
  },
  {
   "cell_type": "code",
   "execution_count": 8,
   "metadata": {},
   "outputs": [
    {
     "name": "stdout",
     "output_type": "stream",
     "text": [
      "Hello World!\n",
      "This is a new line!Hello World 2!\n",
      "This is a new line 2!\n"
     ]
    }
   ],
   "source": [
    "## write without overwriting the file\n",
    "## we will open in append mode\n",
    "\n",
    "with open('examples.txt','a') as file:\n",
    "    file.write(\"Hello World 2! \\n\")\n",
    "    file.write(\"This is a new line 2!\")\n",
    "    \n",
    "with open('examples.txt','r') as file:\n",
    "    for line in file:\n",
    "        print(line.strip())    \n",
    "\n",
    "    "
   ]
  },
  {
   "cell_type": "code",
   "execution_count": 9,
   "metadata": {},
   "outputs": [
    {
     "name": "stdout",
     "output_type": "stream",
     "text": [
      "Hello World!\n",
      "This is a new line!Hello World 2!\n",
      "This is a new line 2!\n",
      "First line\n",
      "\n",
      "2nd line\n"
     ]
    }
   ],
   "source": [
    "## writing list of lines ot a file\n",
    "\n",
    "lines = ['\\n First line \\n', '\\n 2nd line \\n']\n",
    "\n",
    "with open('examples.txt','a') as file:\n",
    "    file.writelines(lines)\n",
    "\n",
    "with open('examples.txt','r') as file:\n",
    "    for line in file:\n",
    "        print(line.strip())"
   ]
  },
  {
   "cell_type": "markdown",
   "metadata": {},
   "source": [
    "## Binary Files\n",
    "    -- in this we update bytes"
   ]
  },
  {
   "cell_type": "code",
   "execution_count": 12,
   "metadata": {},
   "outputs": [],
   "source": [
    "data = b'\\x00\\x00'\n",
    "with open('examples.bin','wb') as file:\n",
    "    file.write(data) "
   ]
  },
  {
   "cell_type": "code",
   "execution_count": 13,
   "metadata": {},
   "outputs": [
    {
     "name": "stdout",
     "output_type": "stream",
     "text": [
      "b'\\x00\\x00'\n"
     ]
    }
   ],
   "source": [
    "with open('examples.bin','rb') as file:\n",
    "    content = file.read()\n",
    "    print(content)"
   ]
  },
  {
   "cell_type": "markdown",
   "metadata": {},
   "source": [
    "## read content from source text file and write it to a destination source file"
   ]
  },
  {
   "cell_type": "code",
   "execution_count": 15,
   "metadata": {},
   "outputs": [],
   "source": [
    "with open('examples.txt','r') as file:\n",
    "    content = file.read()\n",
    "    \n",
    "with open('destination.txt','w') as file:\n",
    "    file.write(content)"
   ]
  },
  {
   "cell_type": "markdown",
   "metadata": {},
   "source": [
    "## count of lines, words and chars"
   ]
  },
  {
   "cell_type": "code",
   "execution_count": 17,
   "metadata": {},
   "outputs": [
    {
     "name": "stdout",
     "output_type": "stream",
     "text": [
      "lines: 6, words: 84, chars: 96\n"
     ]
    }
   ],
   "source": [
    "def text_file_count(file_path):\n",
    "    with open(file_path,'r') as file:\n",
    "        content = file.readlines()\n",
    "        line_count = len(content)\n",
    "        word_count = sum(len(line.strip()) for line in content)\n",
    "        char_count = sum(len(line) for line in content)\n",
    "    \n",
    "    return line_count, word_count, char_count\n",
    "\n",
    "\n",
    "a,b,c, = text_file_count('examples.txt')\n",
    "print(f'lines: {a}, words: {b}, chars: {c}')"
   ]
  },
  {
   "cell_type": "markdown",
   "metadata": {},
   "source": [
    "## writing and reading\n",
    "    -- w+ -> to write and read at the same time\n",
    "    -- if file is not there, it will be created\n",
    "    -- but the content will be overwritten"
   ]
  },
  {
   "cell_type": "code",
   "execution_count": 20,
   "metadata": {},
   "outputs": [
    {
     "name": "stdout",
     "output_type": "stream",
     "text": [
      "Hello World in W+ mode \n",
      "Overwrite mode activated since W+\n"
     ]
    }
   ],
   "source": [
    "with open(\"examples.txt\", 'w+') as file:\n",
    "    file.write(\"Hello World in W+ mode \\n\")\n",
    "    file.write(\"Overwrite mode activated since W+\")\n",
    "    \n",
    "    ## move the file cursor to the first line so that we will be able to read\n",
    "    file.seek(0) ## 0 is going to 0th index\n",
    "    \n",
    "    ## read the file now\n",
    "    content =file.read()\n",
    "    print(content)\n",
    "    \n",
    "    ## if you dont write the seek and print content: nothing will be printed\n",
    "    ## since cursor is at the end of the file\n",
    "    \n",
    "\n",
    " "
   ]
  },
  {
   "cell_type": "code",
   "execution_count": null,
   "metadata": {},
   "outputs": [],
   "source": []
  },
  {
   "cell_type": "markdown",
   "metadata": {},
   "source": [
    "## working with File Paths"
   ]
  },
  {
   "cell_type": "code",
   "execution_count": 3,
   "metadata": {},
   "outputs": [
    {
     "name": "stdout",
     "output_type": "stream",
     "text": [
      "Directory '/packages' is created\n"
     ]
    }
   ],
   "source": [
    "new_dir = 'packages'\n",
    "\n",
    "import os\n",
    "os.mkdir(new_dir)\n",
    "print(f\"Directory '/{new_dir}' is created\")"
   ]
  },
  {
   "cell_type": "code",
   "execution_count": 7,
   "metadata": {},
   "outputs": [
    {
     "data": {
      "text/plain": [
       "'/Users/szanwar/Desktop/MLOPS/MLOPS/FileHandling'"
      ]
     },
     "execution_count": 7,
     "metadata": {},
     "output_type": "execute_result"
    }
   ],
   "source": [
    "pwd"
   ]
  },
  {
   "cell_type": "code",
   "execution_count": 4,
   "metadata": {},
   "outputs": [
    {
     "data": {
      "text/plain": [
       "['destination.txt',\n",
       " 'examples.bin',\n",
       " 'examples.txt',\n",
       " 'packages',\n",
       " 'handlingFiles.ipynb']"
      ]
     },
     "execution_count": 4,
     "metadata": {},
     "output_type": "execute_result"
    }
   ],
   "source": [
    "## list all files and directories\n",
    "items = os.listdir(\".\")  ## . means its seeing in the current directory\n",
    "items"
   ]
  },
  {
   "cell_type": "code",
   "execution_count": 8,
   "metadata": {},
   "outputs": [
    {
     "data": {
      "text/plain": [
       "'folder/file.txt'"
      ]
     },
     "execution_count": 8,
     "metadata": {},
     "output_type": "execute_result"
    }
   ],
   "source": [
    "## joining paths\n",
    "\n",
    "dir_name = 'folder'\n",
    "file_name = 'file.txt'\n",
    "\n",
    "full_path = os.path.join(dir_name, file_name)\n",
    "full_path"
   ]
  },
  {
   "cell_type": "code",
   "execution_count": 9,
   "metadata": {},
   "outputs": [
    {
     "data": {
      "text/plain": [
       "'/Users/szanwar/Desktop/MLOPS/MLOPS/FileHandling/folder/file.txt'"
      ]
     },
     "execution_count": 9,
     "metadata": {},
     "output_type": "execute_result"
    }
   ],
   "source": [
    "## joining paths\n",
    "\n",
    "dir_name = 'folder'\n",
    "file_name = 'file.txt'\n",
    "\n",
    "full_path = os.path.join(os.getcwd(),dir_name, file_name)\n",
    "full_path"
   ]
  },
  {
   "cell_type": "markdown",
   "metadata": {},
   "source": [
    "## File there or not"
   ]
  },
  {
   "cell_type": "code",
   "execution_count": 30,
   "metadata": {},
   "outputs": [
    {
     "name": "stdout",
     "output_type": "stream",
     "text": [
      "path not there\n"
     ]
    }
   ],
   "source": [
    "path = 'example.txt'\n",
    "\n",
    "if os.path.exists(path):\n",
    "    print(\"Path already there\")\n",
    "else:\n",
    "    print(\"path not there\")"
   ]
  },
  {
   "cell_type": "code",
   "execution_count": 32,
   "metadata": {},
   "outputs": [
    {
     "name": "stdout",
     "output_type": "stream",
     "text": [
      "Doesn't exist\n"
     ]
    }
   ],
   "source": [
    "## chekcing file is a path or directory\n",
    "\n",
    "path = 'example.txt'\n",
    "\n",
    "if os.path.isfile(path):\n",
    "    print(\"its a file\")\n",
    "elif os.path.isdir(path):\n",
    "    print(\"its a directory\")\n",
    "else:\n",
    "    print(\"Doesn't exist\")    "
   ]
  },
  {
   "cell_type": "code",
   "execution_count": 33,
   "metadata": {},
   "outputs": [
    {
     "data": {
      "text/plain": [
       "'e:\\\\Kn - GenAI\\\\FileHandling\\\\examples.txt'"
      ]
     },
     "execution_count": 33,
     "metadata": {},
     "output_type": "execute_result"
    }
   ],
   "source": [
    "## getting the absolute path\n",
    "\n",
    "relative_path = 'examples.txt'\n",
    "abs_path = os.path.abspath(relative_path)\n",
    "abs_path"
   ]
  },
  {
   "cell_type": "code",
   "execution_count": null,
   "metadata": {},
   "outputs": [],
   "source": []
  }
 ],
 "metadata": {
  "kernelspec": {
   "display_name": "Python 3",
   "language": "python",
   "name": "python3"
  },
  "language_info": {
   "codemirror_mode": {
    "name": "ipython",
    "version": 3
   },
   "file_extension": ".py",
   "mimetype": "text/x-python",
   "name": "python",
   "nbconvert_exporter": "python",
   "pygments_lexer": "ipython3",
   "version": "3.12.6"
  }
 },
 "nbformat": 4,
 "nbformat_minor": 2
}
