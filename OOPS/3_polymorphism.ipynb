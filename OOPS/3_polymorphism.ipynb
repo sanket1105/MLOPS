{
 "cells": [
  {
   "cell_type": "markdown",
   "metadata": {},
   "source": [
    "## polymorphism\n",
    "-- allows objects of different classes to be treated as the object of common superclass\n",
    "\n",
    "-- allows single function of the base class to be used in different class with different meanings"
   ]
  },
  {
   "cell_type": "code",
   "execution_count": 1,
   "metadata": {},
   "outputs": [
    {
     "name": "stdout",
     "output_type": "stream",
     "text": [
      "woof\n",
      "meow\n"
     ]
    }
   ],
   "source": [
    "## its method over-riding\n",
    "class animal:\n",
    "    def speak(self):\n",
    "        return \"sound of the animal\"\n",
    "    \n",
    "class dog(animal):\n",
    "    def speak(self):\n",
    "        return \"woof\"\n",
    "\n",
    "class cat(animal):\n",
    "    def speak(self):\n",
    "        return \"meow\"\n",
    "\n",
    "def animal_speak(animal):\n",
    "    print(animal.speak())\n",
    "\n",
    "dog = animal_speak(dog())\n",
    "cat = animal_speak(cat())\n"
   ]
  },
  {
   "cell_type": "markdown",
   "metadata": {},
   "source": [
    "## Polymorphism with functions and methods"
   ]
  },
  {
   "cell_type": "code",
   "execution_count": 2,
   "metadata": {},
   "outputs": [
    {
     "name": "stdout",
     "output_type": "stream",
     "text": [
      "area is 20\n"
     ]
    }
   ],
   "source": [
    "class shape:\n",
    "    def area(self):\n",
    "        return \"the area of the figure\"\n",
    "\n",
    "## derived class 1st\n",
    "class rectangle(shape):\n",
    "    def __init__(self, len,wid):\n",
    "        self.len = len\n",
    "        self.wid = wid\n",
    "    \n",
    "    def area(self):\n",
    "        return self.wid * self.len\n",
    "\n",
    "## derived class 2\n",
    "def circle(shape):\n",
    "    def __init__(self,radius):\n",
    "        self.radius = radius\n",
    "    \n",
    "    def area(self):\n",
    "        return 3.14*(self.radius)**2\n",
    "\n",
    "## function that do polymorphism\n",
    "def print_area(shape):\n",
    "    print(f\"area is {shape.area()}\")\n",
    "    \n",
    "\n",
    "print_area(rectangle(4,5))   "
   ]
  },
  {
   "cell_type": "markdown",
   "metadata": {},
   "source": [
    "## without polymorphism, still we can do"
   ]
  },
  {
   "cell_type": "code",
   "execution_count": 3,
   "metadata": {},
   "outputs": [
    {
     "name": "stdout",
     "output_type": "stream",
     "text": [
      "area is 20\n"
     ]
    }
   ],
   "source": [
    "\n",
    "## derived class 1st\n",
    "class rectangle():\n",
    "    def __init__(self, len,wid):\n",
    "        self.len = len\n",
    "        self.wid = wid\n",
    "    \n",
    "    def area(self):\n",
    "        return self.wid * self.len\n",
    "\n",
    "## derived class 2\n",
    "def circle():\n",
    "    def __init__(self,radius):\n",
    "        self.radius = radius\n",
    "    \n",
    "    def area(self):\n",
    "        return 3.14*(self.radius)**2\n",
    "\n",
    "## function that do polymorphism\n",
    "def print_area(shape):\n",
    "    print(f\"area is {shape.area()}\")\n",
    "    \n",
    "\n",
    "print_area(rectangle(4,5))   "
   ]
  },
  {
   "cell_type": "markdown",
   "metadata": {},
   "source": [
    "## polymorphism with abstract base class"
   ]
  },
  {
   "cell_type": "code",
   "execution_count": 4,
   "metadata": {},
   "outputs": [
    {
     "name": "stdout",
     "output_type": "stream",
     "text": [
      "car engine started\n"
     ]
    }
   ],
   "source": [
    "from abc import ABC, abstractmethod\n",
    "\n",
    "\n",
    "class vehicle(ABC):\n",
    "    @abstractmethod\n",
    "    def start_engine(self):\n",
    "        pass\n",
    "    \n",
    "class car(vehicle):\n",
    "    def start_engine(self):\n",
    "        return \"car engine started\"\n",
    "    \n",
    "class motor(vehicle):\n",
    "    def start_engine(self):\n",
    "        return \"motor engine started\"\n",
    "    \n",
    "def start_vehicle(vehicle):\n",
    "    print(vehicle.start_engine())\n",
    "    \n",
    "## creating object of car and motor\n",
    "\n",
    "\n",
    "start_vehicle(car())\n",
    "    \n"
   ]
  },
  {
   "cell_type": "code",
   "execution_count": null,
   "metadata": {},
   "outputs": [],
   "source": []
  }
 ],
 "metadata": {
  "kernelspec": {
   "display_name": "Python 3",
   "language": "python",
   "name": "python3"
  },
  "language_info": {
   "codemirror_mode": {
    "name": "ipython",
    "version": 3
   },
   "file_extension": ".py",
   "mimetype": "text/x-python",
   "name": "python",
   "nbconvert_exporter": "python",
   "pygments_lexer": "ipython3",
   "version": "3.12.6"
  }
 },
 "nbformat": 4,
 "nbformat_minor": 2
}
