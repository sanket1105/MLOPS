{
 "cells": [
  {
   "cell_type": "code",
   "execution_count": null,
   "metadata": {},
   "outputs": [
    {
     "data": {
      "text/plain": [
       "'\\n-- __add__(self,other): add\\n-- __sub__(self,other): subtract\\n-- __mul__(self,other): multiply\\n-- __truediv__(self,other): divide\\n-- __eq__(self,other): equals to == \\n-- __lt__(self,other): less than\\n\\n'"
      ]
     },
     "execution_count": 2,
     "metadata": {},
     "output_type": "execute_result"
    }
   ],
   "source": [
    "## Operators overloading\n",
    "\"\"\"\n",
    "-- __add__(self,other): add\n",
    "-- __sub__(self,other): subtract\n",
    "-- __mul__(self,other): multiply\n",
    "-- __truediv__(self,other): divide\n",
    "-- __eq__(self,other): equals to == \n",
    "-- __lt__(self,other): less than\n",
    "-- __gt__(self,other): greater than\n",
    "\n",
    "\"\"\""
   ]
  },
  {
   "cell_type": "code",
   "execution_count": 12,
   "metadata": {},
   "outputs": [
    {
     "name": "stdout",
     "output_type": "stream",
     "text": [
      "vector(6, 8)\n",
      "vector(-2, -2)\n"
     ]
    }
   ],
   "source": [
    "class vector:\n",
    "    def __init__(self, x, y):\n",
    "        self.x = x\n",
    "        self.y = y\n",
    "    \n",
    "    def __add__(self, other):\n",
    "        return vector(self.x + other.x, self.y + other.y)\n",
    "    \n",
    "    def __sub__(self, other):\n",
    "        return vector(self.x - other.x, self.y - other.y)\n",
    "    \n",
    "    def __eq__(self,other):\n",
    "        return self.x == other.x and self.y==other.y\n",
    "    \n",
    "    def __repr__(self):\n",
    "        return f\"vector({self.x}, {self.y})\"\n",
    "    \n",
    "v1 = vector(2, 3)\n",
    "v2 = vector(4, 5)\n",
    "\n",
    "k = v1 + v2\n",
    "s = v1-v2\n",
    "print(k)\n",
    "print(s)\n"
   ]
  },
  {
   "cell_type": "code",
   "execution_count": null,
   "metadata": {},
   "outputs": [],
   "source": []
  },
  {
   "cell_type": "code",
   "execution_count": null,
   "metadata": {},
   "outputs": [],
   "source": []
  }
 ],
 "metadata": {
  "kernelspec": {
   "display_name": "Python 3",
   "language": "python",
   "name": "python3"
  },
  "language_info": {
   "codemirror_mode": {
    "name": "ipython",
    "version": 3
   },
   "file_extension": ".py",
   "mimetype": "text/x-python",
   "name": "python",
   "nbconvert_exporter": "python",
   "pygments_lexer": "ipython3",
   "version": "3.12.6"
  }
 },
 "nbformat": 4,
 "nbformat_minor": 2
}
