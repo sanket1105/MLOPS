{
 "cells": [
  {
   "cell_type": "markdown",
   "metadata": {},
   "source": [
    "## Abstraction\n",
    "    -- hiding the complex details and showing only the necessary details"
   ]
  },
  {
   "cell_type": "code",
   "execution_count": 3,
   "metadata": {},
   "outputs": [
    {
     "name": "stdout",
     "output_type": "stream",
     "text": [
      "Car engine started\n",
      "The vehicle is use for driving\n"
     ]
    }
   ],
   "source": [
    "from abc import ABC, abstractmethod\n",
    "\n",
    "## we are inheriting the abstract base class\n",
    "\n",
    "class vehicle(ABC):\n",
    "    def drive(self):\n",
    "        print(\"The vehicle is use for driving\")\n",
    "    \n",
    "    @abstractmethod\n",
    "    def start_engine(self):\n",
    "        pass\n",
    "    \n",
    "class car(vehicle):\n",
    "    def start_engine(self):\n",
    "        print(\"Car engine started\")\n",
    "     \n",
    "def operateVehicle(vehicle):\n",
    "    vehicle.start_engine() \n",
    "    vehicle.drive()  \n",
    "    \n",
    "operateVehicle(car())"
   ]
  },
  {
   "cell_type": "code",
   "execution_count": 1,
   "metadata": {},
   "outputs": [
    {
     "name": "stdout",
     "output_type": "stream",
     "text": [
      "Bark\n",
      "This animal is sleeping.\n",
      "Meow\n",
      "This animal is sleeping.\n"
     ]
    }
   ],
   "source": [
    "from abc import ABC, abstractmethod\n",
    "\n",
    "# Abstract base class\n",
    "class Animal(ABC):\n",
    "    # Abstract method (no implementation here)\n",
    "    @abstractmethod\n",
    "    def sound(self):\n",
    "        pass\n",
    "\n",
    "    # Concrete method (implementation provided here)\n",
    "    def sleep(self):\n",
    "        print(\"This animal is sleeping.\")\n",
    "\n",
    "# Concrete subclass\n",
    "class Dog(Animal):\n",
    "    # Providing implementation for the abstract method\n",
    "    def sound(self):\n",
    "        print(\"Bark\")\n",
    "\n",
    "class Cat(Animal):\n",
    "    # Providing implementation for the abstract method\n",
    "    def sound(self):\n",
    "        print(\"Meow\")\n",
    "\n",
    "# Main program\n",
    "def main():\n",
    "    # Cannot instantiate an abstract class\n",
    "    # animal = Animal()  # This will raise an error!\n",
    "\n",
    "    # Create instances of Dog and Cat\n",
    "    dog = Dog()\n",
    "    cat = Cat()\n",
    "\n",
    "    # Call methods\n",
    "    dog.sound()  # Outputs: Bark\n",
    "    dog.sleep()  # Outputs: This animal is sleeping.\n",
    "    \n",
    "    cat.sound()  # Outputs: Meow\n",
    "    cat.sleep()  # Outputs: This animal is sleeping.\n",
    "\n",
    "if __name__ == \"__main__\":\n",
    "    main()\n"
   ]
  },
  {
   "cell_type": "code",
   "execution_count": null,
   "metadata": {},
   "outputs": [],
   "source": []
  }
 ],
 "metadata": {
  "kernelspec": {
   "display_name": "Python 3",
   "language": "python",
   "name": "python3"
  },
  "language_info": {
   "codemirror_mode": {
    "name": "ipython",
    "version": 3
   },
   "file_extension": ".py",
   "mimetype": "text/x-python",
   "name": "python",
   "nbconvert_exporter": "python",
   "pygments_lexer": "ipython3",
   "version": "3.12.6"
  }
 },
 "nbformat": 4,
 "nbformat_minor": 2
}
