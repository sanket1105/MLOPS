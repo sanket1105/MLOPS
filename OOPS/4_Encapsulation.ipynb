{
 "cells": [
  {
   "cell_type": "markdown",
   "metadata": {},
   "source": [
    "## Encapsulation\n",
    "-- involved hiding complex details and exposing only necessary features\n"
   ]
  },
  {
   "cell_type": "markdown",
   "metadata": {},
   "source": [
    "-- public vars: we can access it outside the class\n",
    "\n",
    "\n",
    "-- private variable: self.__abc -> cannot be accessed outside the class\n",
    "        -- eventhough you have the derived class, you cannot access it"
   ]
  },
  {
   "cell_type": "markdown",
   "metadata": {},
   "source": [
    "## Lessons:\n",
    "        ---> __variable : private\n",
    "        ---> _variable : protected\n",
    "\n",
    "      -- No matter what, we cannot access the private variables\n",
    "      \n",
    "      -- but we can access the protected ones: by making a derived class\n",
    "\n",
    "      -- dir(class_name) : via this you can see what are the protected/public vars\n",
    "      \n",
    "      -- with using only getter and setter: you can change the private varibales value\n",
    "  \n",
    "            -- getter is: get_name()\n",
    "            -- setter is: set_name()"
   ]
  },
  {
   "cell_type": "code",
   "execution_count": 5,
   "metadata": {},
   "outputs": [
    {
     "data": {
      "text/plain": [
       "'sanket'"
      ]
     },
     "execution_count": 5,
     "metadata": {},
     "output_type": "execute_result"
    }
   ],
   "source": [
    "## using getter and setter method\n",
    "## public, protected, private variables\n",
    "\n",
    "class person:\n",
    "    def __init__(self, name, age):\n",
    "        self.name = name  ## public variables\n",
    "        self.age = age    ## public variables\n",
    "        \n",
    "person = person(\"sanket\",24)\n",
    "person.name"
   ]
  },
  {
   "cell_type": "code",
   "execution_count": 6,
   "metadata": {},
   "outputs": [
    {
     "data": {
      "text/plain": [
       "['__class__',\n",
       " '__delattr__',\n",
       " '__dict__',\n",
       " '__dir__',\n",
       " '__doc__',\n",
       " '__eq__',\n",
       " '__format__',\n",
       " '__ge__',\n",
       " '__getattribute__',\n",
       " '__getstate__',\n",
       " '__gt__',\n",
       " '__hash__',\n",
       " '__init__',\n",
       " '__init_subclass__',\n",
       " '__le__',\n",
       " '__lt__',\n",
       " '__module__',\n",
       " '__ne__',\n",
       " '__new__',\n",
       " '__reduce__',\n",
       " '__reduce_ex__',\n",
       " '__repr__',\n",
       " '__setattr__',\n",
       " '__sizeof__',\n",
       " '__str__',\n",
       " '__subclasshook__',\n",
       " '__weakref__',\n",
       " 'age',\n",
       " 'name']"
      ]
     },
     "execution_count": 6,
     "metadata": {},
     "output_type": "execute_result"
    }
   ],
   "source": [
    "dir(person)\n",
    "## you can see the names of all the public variables"
   ]
  },
  {
   "cell_type": "code",
   "execution_count": 7,
   "metadata": {},
   "outputs": [
    {
     "data": {
      "text/plain": [
       "['__class__',\n",
       " '__delattr__',\n",
       " '__dict__',\n",
       " '__dir__',\n",
       " '__doc__',\n",
       " '__eq__',\n",
       " '__format__',\n",
       " '__ge__',\n",
       " '__getattribute__',\n",
       " '__getstate__',\n",
       " '__gt__',\n",
       " '__hash__',\n",
       " '__init__',\n",
       " '__init_subclass__',\n",
       " '__le__',\n",
       " '__lt__',\n",
       " '__module__',\n",
       " '__ne__',\n",
       " '__new__',\n",
       " '__reduce__',\n",
       " '__reduce_ex__',\n",
       " '__repr__',\n",
       " '__setattr__',\n",
       " '__sizeof__',\n",
       " '__str__',\n",
       " '__subclasshook__',\n",
       " '__weakref__',\n",
       " '_person__age',\n",
       " '_person__name',\n",
       " 'gender']"
      ]
     },
     "execution_count": 7,
     "metadata": {},
     "output_type": "execute_result"
    }
   ],
   "source": [
    "## private vars: not accessible outside the class\n",
    "\n",
    "class person:\n",
    "    def __init__(self, name, age, gender):\n",
    "        self.__name = name  ## private variables\n",
    "        self.__age = age    ## private variables\n",
    "        self.gender = gender ## public variable\n",
    "        \n",
    "person = person(\"sanket\",24,'M')\n",
    "dir(person)"
   ]
  },
  {
   "cell_type": "markdown",
   "metadata": {},
   "source": [
    "## Protected variable\n",
    "        -- cannot access outside the class but can be used from the derived class"
   ]
  },
  {
   "cell_type": "code",
   "execution_count": 10,
   "metadata": {},
   "outputs": [
    {
     "name": "stdout",
     "output_type": "stream",
     "text": [
      "['__class__', '__delattr__', '__dict__', '__dir__', '__doc__', '__eq__', '__format__', '__ge__', '__getattribute__', '__getstate__', '__gt__', '__hash__', '__init__', '__init_subclass__', '__le__', '__lt__', '__module__', '__ne__', '__new__', '__reduce__', '__reduce_ex__', '__repr__', '__setattr__', '__sizeof__', '__str__', '__subclasshook__', '__weakref__', '_age', '_name', 'gender']\n"
     ]
    },
    {
     "data": {
      "text/plain": [
       "'shankii'"
      ]
     },
     "execution_count": 10,
     "metadata": {},
     "output_type": "execute_result"
    }
   ],
   "source": [
    "## private vars: not accessible outside the class\n",
    "\n",
    "class person:\n",
    "    def __init__(self, name, age, gender):\n",
    "        self._name = name  ## protected variables\n",
    "        self._age = age    ## protected variables\n",
    "        self.gender = gender ## public variable\n",
    "        \n",
    "class employee(person):\n",
    "    def __init__(self, name, age, gender):\n",
    "        super().__init__(name,age,gender)\n",
    "     \n",
    "employee = employee('shankii',34,'M')\n",
    "print(dir(employee))\n",
    "employee._name"
   ]
  },
  {
   "cell_type": "markdown",
   "metadata": {},
   "source": [
    "## Encapsulation with getter and setter"
   ]
  },
  {
   "cell_type": "code",
   "execution_count": 11,
   "metadata": {},
   "outputs": [
    {
     "name": "stdout",
     "output_type": "stream",
     "text": [
      "shankii\n",
      "Sanket\n"
     ]
    }
   ],
   "source": [
    "class person:\n",
    "    def __init__(self, name, age):\n",
    "        self.__name = name\n",
    "        self.__age = age\n",
    "        \n",
    "    ## getter for name\n",
    "    ## gettig the private keys using getter\n",
    "    def get_name(self):\n",
    "        return self.__name\n",
    "    \n",
    "    ## setter for name\n",
    "    ## setting the private keys with some different var\n",
    "    def set_name(self,name):\n",
    "        self.__name = name\n",
    "        \n",
    "person = person('shankii',34)\n",
    "\n",
    "## accessing the private vars and modifying: getter and setter\n",
    "print(person.get_name())\n",
    "person.set_name('Sanket')\n",
    "print(person.get_name())"
   ]
  },
  {
   "cell_type": "code",
   "execution_count": null,
   "metadata": {},
   "outputs": [],
   "source": []
  }
 ],
 "metadata": {
  "kernelspec": {
   "display_name": "Python 3",
   "language": "python",
   "name": "python3"
  },
  "language_info": {
   "codemirror_mode": {
    "name": "ipython",
    "version": 3
   },
   "file_extension": ".py",
   "mimetype": "text/x-python",
   "name": "python",
   "nbconvert_exporter": "python",
   "pygments_lexer": "ipython3",
   "version": "3.12.6"
  }
 },
 "nbformat": 4,
 "nbformat_minor": 2
}
