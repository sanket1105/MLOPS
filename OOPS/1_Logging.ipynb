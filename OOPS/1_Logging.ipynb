{
 "cells": [
  {
   "cell_type": "code",
   "execution_count": null,
   "metadata": {},
   "outputs": [
    {
     "name": "stderr",
     "output_type": "stream",
     "text": [
      "2024-11-08 00:39:10 - DEBUG - This is a debug message\n",
      "2024-11-08 00:39:10 - INFO - This is an info message\n",
      "2024-11-08 00:39:10 - WARNING - This is a warning message\n",
      "2024-11-08 00:39:10 - ERROR - This is an error message\n",
      "2024-11-08 00:39:10 - CRITICAL - This is a critical message\n"
     ]
    }
   ],
   "source": [
    "import logging\n",
    "\n",
    "## basic logging configuration\n",
    "logging.basicConfig(level=logging.DEBUG)\n",
    "\n",
    "# Log messages\n",
    "logging.debug(\"This is a debug message\")\n",
    "logging.info(\"This is an info message\")  ##  -> when working as required, so thats the message\n",
    "logging.warning(\"This is a warning message\") ## -> warning but its working\n",
    "logging.error(\"This is an error message\") ## -> error\n",
    "logging.critical(\"This is a critical message\")  ## -> very serious error\n"
   ]
  },
  {
   "cell_type": "code",
   "execution_count": null,
   "metadata": {},
   "outputs": [],
   "source": [
    "## configuring the logging\n",
    "\n",
    "## restart the kernel\n",
    "## all the logs will be saved in the app.log file\n",
    "\n",
    "\n",
    "import logging\n",
    "logging.basicConfig(\n",
    "    filename='app.log',\n",
    "    filemode='w',\n",
    "    level=logging.DEBUG\n",
    ")\n",
    "\n",
    "# Log messages\n",
    "logging.debug(\"This is a debug message\")\n",
    "logging.info(\"This is an info message\")  ##  -> when working as required, so thats the message\n",
    "logging.warning(\"This is a warning message\") ## -> warning but its working\n",
    "logging.error(\"This is an error message\") ## -> error\n",
    "logging.critical(\"This is a critical message\")  ## -> very serious error\n"
   ]
  },
  {
   "cell_type": "markdown",
   "metadata": {},
   "source": [
    "## creating script\n",
    "\n",
    "-- you can create a logger.py script so that you can configure the logging script\n",
    "\n",
    "\n",
    "-- from logger from logging\n",
    "\n",
    "-- I would still prefer to write logging below the cell and not in some file"
   ]
  },
  {
   "cell_type": "code",
   "execution_count": null,
   "metadata": {},
   "outputs": [],
   "source": []
  },
  {
   "cell_type": "markdown",
   "metadata": {},
   "source": [
    "## Logging with muliple loggers\n",
    "\n",
    "        -- getLogger, setLevel"
   ]
  },
  {
   "cell_type": "code",
   "execution_count": 5,
   "metadata": {},
   "outputs": [],
   "source": [
    "import logging\n",
    "\n",
    "for handler in logging.root.handlers[:]:\n",
    "    logging.root.removeHandler(handler)\n",
    "\n",
    "logging.basicConfig(\n",
    "    level=logging.DEBUG,\n",
    "    format=\"%(asctime)s - %(levelname)s - %(message)s\",\n",
    "    datefmt=\"%Y-%m-%d %H:%M:%S\"\n",
    ")\n",
    "\n",
    "## logger for module 1\n",
    "logging1 = logging.getLogger(\"Module 1\")\n",
    "logging1.setLevel(logging.DEBUG)\n",
    "\n",
    "logging2 = logging.getLogger(\"Module 2\")\n",
    "logging2.setLevel(logging.WARNING)"
   ]
  },
  {
   "cell_type": "code",
   "execution_count": 8,
   "metadata": {},
   "outputs": [
    {
     "name": "stderr",
     "output_type": "stream",
     "text": [
      "2024-11-08 00:59:44 - DEBUG - from mdoule 1\n",
      "2024-11-08 00:59:44 - WARNING - from module 2\n"
     ]
    }
   ],
   "source": [
    "## loggings with diff loggers\n",
    "\n",
    "logging1.debug(\"from mdoule 1\")\n",
    "logging2.warning(\"from module 2\")"
   ]
  },
  {
   "cell_type": "code",
   "execution_count": null,
   "metadata": {},
   "outputs": [],
   "source": []
  }
 ],
 "metadata": {
  "kernelspec": {
   "display_name": "Python 3",
   "language": "python",
   "name": "python3"
  },
  "language_info": {
   "codemirror_mode": {
    "name": "ipython",
    "version": 3
   },
   "file_extension": ".py",
   "mimetype": "text/x-python",
   "name": "python",
   "nbconvert_exporter": "python",
   "pygments_lexer": "ipython3",
   "version": "3.12.6"
  }
 },
 "nbformat": 4,
 "nbformat_minor": 2
}
