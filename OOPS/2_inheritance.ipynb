{
 "cells": [
  {
   "cell_type": "markdown",
   "metadata": {},
   "source": [
    "            -- ## to inherit the class in yourself from the parent class"
   ]
  },
  {
   "cell_type": "markdown",
   "metadata": {},
   "source": [
    "## Single Inheritance - Parent class"
   ]
  },
  {
   "cell_type": "code",
   "execution_count": 2,
   "metadata": {},
   "outputs": [],
   "source": [
    "class car:\n",
    "    def __init__(self,windows, door, engineType):\n",
    "        self.windows = windows\n",
    "        self.door = door\n",
    "        self.engineType = engineType\n",
    "        \n",
    "    def drive(self):\n",
    "        print(f\"The person will drive the {self.engineType} car\")\n",
    "    \n",
    "    def run(self):\n",
    "        self.drive()"
   ]
  },
  {
   "cell_type": "code",
   "execution_count": 3,
   "metadata": {},
   "outputs": [
    {
     "name": "stdout",
     "output_type": "stream",
     "text": [
      "The person will drive the petrol car\n"
     ]
    }
   ],
   "source": [
    "car1 = car(4,5,'petrol').run()\n",
    "car1"
   ]
  },
  {
   "cell_type": "markdown",
   "metadata": {},
   "source": [
    "## The keyword super is used to refer to the superclass (or parent class) from which a subclass (child class) is derived."
   ]
  },
  {
   "cell_type": "code",
   "execution_count": 12,
   "metadata": {},
   "outputs": [],
   "source": [
    "class Tesla(car):\n",
    "    def __init__(self,windows, door, engineType, selfDrive:bool):\n",
    "        super().__init__(windows, door, engineType) \n",
    "        ## super is used as \"tesla\" is the subclass of \"car\"\n",
    "        ## also can be written as ->\n",
    "        # car.__init__(self, windows, door, engineType)\n",
    "        self.selfDrive = selfDrive\n",
    "    \n",
    "    def selfDriving(self):\n",
    "        print(f\"Tesla supports Self Drive: {self.selfDrive}\")\n",
    "    \n",
    "    def run(self):\n",
    "        self.selfDriving()\n",
    "    "
   ]
  },
  {
   "cell_type": "code",
   "execution_count": 13,
   "metadata": {},
   "outputs": [
    {
     "name": "stdout",
     "output_type": "stream",
     "text": [
      "Tesla supports Self Drive: True\n",
      "The person will drive the electric car\n"
     ]
    },
    {
     "data": {
      "text/plain": [
       "(None, None)"
      ]
     },
     "execution_count": 13,
     "metadata": {},
     "output_type": "execute_result"
    }
   ],
   "source": [
    "tesla1 = Tesla(4,5,'electric',True)\n",
    "tesla1.run(), tesla1.drive()\n",
    "\n",
    "## since tesla is the sub-class of class: we can use the function from the main class"
   ]
  },
  {
   "cell_type": "markdown",
   "metadata": {},
   "source": [
    "## Multiple Inheritance\n",
    "        -- when a class inherits from more than 1 base class"
   ]
  },
  {
   "cell_type": "code",
   "execution_count": 26,
   "metadata": {},
   "outputs": [
    {
     "name": "stdout",
     "output_type": "stream",
     "text": [
      "Tom speaks very well\n",
      "Owner's name is Shankii\n",
      "Animal's type is 4-legged\n"
     ]
    }
   ],
   "source": [
    "## Base class 1\n",
    "class animal:\n",
    "    def __init__(self, name):\n",
    "        self.name = name\n",
    "    \n",
    "    def speak(self):\n",
    "        print(f\"{self.name} speaks very well\")\n",
    "        \n",
    "## Base class 2\n",
    "class pet:\n",
    "    def __init__(self, owner):\n",
    "        self.owner = owner\n",
    "    \n",
    "    def ownerName(self):\n",
    "        print(f\"Owner's name is {self.owner}\")\n",
    "        \n",
    "## Inherited class\n",
    "class dog(animal, pet):\n",
    "    def __init__(self, name, owner, type):\n",
    "        # Initialize base classes\n",
    "        animal.__init__(self, name) \n",
    "        pet.__init__(self, owner) \n",
    "\n",
    "        self.type = type\n",
    "\n",
    "    def animalType(self):\n",
    "        print(f\"Animal's type is {self.type}\")\n",
    "    \n",
    "    def run(self):\n",
    "        self.speak()\n",
    "        self.ownerName()\n",
    "        self.animalType()\n",
    "\n",
    "# Example usage\n",
    "example = dog('Tom', 'Shankii', '4-legged')       \n",
    "example.run()\n"
   ]
  },
  {
   "cell_type": "code",
   "execution_count": null,
   "metadata": {},
   "outputs": [],
   "source": []
  }
 ],
 "metadata": {
  "kernelspec": {
   "display_name": "Python 3",
   "language": "python",
   "name": "python3"
  },
  "language_info": {
   "codemirror_mode": {
    "name": "ipython",
    "version": 3
   },
   "file_extension": ".py",
   "mimetype": "text/x-python",
   "name": "python",
   "nbconvert_exporter": "python",
   "pygments_lexer": "ipython3",
   "version": "3.12.6"
  }
 },
 "nbformat": 4,
 "nbformat_minor": 2
}
