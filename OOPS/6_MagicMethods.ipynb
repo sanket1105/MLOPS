{
 "cells": [
  {
   "cell_type": "markdown",
   "metadata": {},
   "source": [
    "## Magic Methods\n",
    "        -- dunder methods or double underscore methods\n",
    "        -- __init__\n",
    "        -- __len__\n",
    "        -- __getitem__\n",
    "        -- __setitem__"
   ]
  },
  {
   "cell_type": "code",
   "execution_count": 1,
   "metadata": {},
   "outputs": [
    {
     "name": "stdout",
     "output_type": "stream",
     "text": [
      "<__main__.Person object at 0x10b0f3020>\n"
     ]
    }
   ],
   "source": [
    "## basics methods\n",
    "class Person:\n",
    "    def __init__(self, age,name):\n",
    "        self.name = name\n",
    "        self.age  = age\n",
    "        \n",
    "p1 = Person(\"shankii\", 34)\n",
    "print(p1)\n",
    "\n",
    "## by default it will display the: __str__ of the class\n",
    "\n",
    "## lets change what the output is being displayed\n",
    "## by changing the __str__ method\n",
    "    "
   ]
  },
  {
   "cell_type": "code",
   "execution_count": 2,
   "metadata": {},
   "outputs": [
    {
     "name": "stdout",
     "output_type": "stream",
     "text": [
      "shankii, 34 years old \n",
      "shankii, 34 years old \n",
      "Person: shankii, age: 34\n"
     ]
    }
   ],
   "source": [
    "\n",
    "class Person:\n",
    "    def __init__(self, name,age):\n",
    "        self.name = name\n",
    "        self.age  = age\n",
    "    \n",
    "    def __str__(self):  ## this was a magic method\n",
    "        return f\"{self.name}, {self.age} years old \"\n",
    "    \n",
    "    def __repr__(self): ## this was a magic method\n",
    "        return f\"Person: {self.name}, age: {self.age}\"\n",
    "    \n",
    "        \n",
    "p1 = Person(\"shankii\", 34)\n",
    "print(p1)\n",
    "print(str(p1))  ## see print(p1) is same as print(str(p1))\n",
    "print(repr(p1))\n",
    "    "
   ]
  },
  {
   "cell_type": "code",
   "execution_count": null,
   "metadata": {},
   "outputs": [],
   "source": []
  }
 ],
 "metadata": {
  "kernelspec": {
   "display_name": "Python 3",
   "language": "python",
   "name": "python3"
  },
  "language_info": {
   "codemirror_mode": {
    "name": "ipython",
    "version": 3
   },
   "file_extension": ".py",
   "mimetype": "text/x-python",
   "name": "python",
   "nbconvert_exporter": "python",
   "pygments_lexer": "ipython3",
   "version": "3.12.6"
  }
 },
 "nbformat": 4,
 "nbformat_minor": 2
}
