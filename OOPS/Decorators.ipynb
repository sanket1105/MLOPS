{
 "cells": [
  {
   "cell_type": "markdown",
   "metadata": {},
   "source": [
    "## Decorators:\n",
    "    -- allows us to modify the behavior of the function or class method"
   ]
  },
  {
   "cell_type": "markdown",
   "metadata": {},
   "source": [
    "## Function Copy"
   ]
  },
  {
   "cell_type": "code",
   "execution_count": 8,
   "metadata": {},
   "outputs": [
    {
     "data": {
      "text/plain": [
       "'Enter to the welcome function'"
      ]
     },
     "execution_count": 8,
     "metadata": {},
     "output_type": "execute_result"
    }
   ],
   "source": [
    "def welcome():\n",
    "    return \"Enter to the welcome function\"\n",
    "\n",
    "welcome()"
   ]
  },
  {
   "cell_type": "code",
   "execution_count": null,
   "metadata": {},
   "outputs": [
    {
     "name": "stdout",
     "output_type": "stream",
     "text": [
      "Enter to the welcome function\n",
      "Enter to the welcome function\n"
     ]
    }
   ],
   "source": [
    "wel = welcome  ## function copy\n",
    "print(wel())\n",
    "\n",
    "del welcome  ## eventhough its deleted, we wil still hae=ve the above\n",
    "print(wel())"
   ]
  },
  {
   "cell_type": "markdown",
   "metadata": {},
   "source": [
    "## Closures\n",
    "        -- function inside a function\n"
   ]
  },
  {
   "cell_type": "code",
   "execution_count": 16,
   "metadata": {},
   "outputs": [],
   "source": [
    "def main_welcome(message):\n",
    "    msg = message\n",
    "    \n",
    "    def sub_welcome(): ## closure function\n",
    "        print(\"Welcome to advanced python course\")\n",
    "        print(msg)  ## can access the main_welcome defination too\n",
    "        print(\"Get your hands dirty in it\")\n",
    "        \n",
    "    return sub_welcome()\n",
    "    "
   ]
  },
  {
   "cell_type": "code",
   "execution_count": 17,
   "metadata": {},
   "outputs": [
    {
     "name": "stdout",
     "output_type": "stream",
     "text": [
      "Welcome to advanced python course\n",
      "Welcome Sanket\n",
      "Get your hands dirty in it\n"
     ]
    }
   ],
   "source": [
    "main_welcome(\"Welcome Sanket\")"
   ]
  },
  {
   "cell_type": "markdown",
   "metadata": {},
   "source": [
    "## Something new"
   ]
  },
  {
   "cell_type": "code",
   "execution_count": null,
   "metadata": {},
   "outputs": [],
   "source": [
    "def main_welcome(func):\n",
    "    \n",
    "    def sub_welcome(): ## closure function\n",
    "        print(\"Welcome to advanced python course\")\n",
    "        func(\"Welcome Sanket\")  ## func as print\n",
    "        print(\"Get your hands dirty in it\")\n",
    "        \n",
    "    return sub_welcome()\n",
    "    "
   ]
  },
  {
   "cell_type": "code",
   "execution_count": 23,
   "metadata": {},
   "outputs": [
    {
     "name": "stdout",
     "output_type": "stream",
     "text": [
      "Welcome to advanced python course\n",
      "Welcome Sanket\n",
      "Get your hands dirty in it\n"
     ]
    }
   ],
   "source": [
    "main_welcome(print)"
   ]
  },
  {
   "cell_type": "code",
   "execution_count": 25,
   "metadata": {},
   "outputs": [
    {
     "name": "stdout",
     "output_type": "stream",
     "text": [
      "Welcome to advanced python course\n",
      "5\n",
      "Get your hands dirty in it\n"
     ]
    }
   ],
   "source": [
    "def main_welcome_len(func, abc:list):\n",
    "    \n",
    "    def sub_welcome(): ## closure function\n",
    "        print(\"Welcome to advanced python course\")\n",
    "        print(len(abc)) ## func as print\n",
    "        print(\"Get your hands dirty in it\")\n",
    "        \n",
    "    return sub_welcome()\n",
    "    \n",
    "main_welcome_len(len,[1,2,3,4,5])"
   ]
  },
  {
   "cell_type": "code",
   "execution_count": 29,
   "metadata": {},
   "outputs": [],
   "source": [
    "def main_welcome(func):\n",
    "    \n",
    "    def sub_welcome(): ## closure function\n",
    "        print(\"Welcome to advanced python course\")\n",
    "        func()  ## func as print\n",
    "        print(\"Get your hands dirty in it\")\n",
    "        \n",
    "    return sub_welcome()\n",
    "    \n",
    "\n",
    "def course_introduction():\n",
    "    print(\"Just trying the Decorators\")\n",
    "    "
   ]
  },
  {
   "cell_type": "code",
   "execution_count": 30,
   "metadata": {},
   "outputs": [
    {
     "name": "stdout",
     "output_type": "stream",
     "text": [
      "Welcome to advanced python course\n",
      "Just trying the Decorators\n",
      "Get your hands dirty in it\n"
     ]
    }
   ],
   "source": [
    "main_welcome(course_introduction)"
   ]
  },
  {
   "cell_type": "code",
   "execution_count": 35,
   "metadata": {},
   "outputs": [
    {
     "name": "stdout",
     "output_type": "stream",
     "text": [
      "Welcome to advanced python course\n",
      "Just trying the Decorators\n",
      "Get your hands dirty in it\n"
     ]
    }
   ],
   "source": [
    "## now using the decorators\n",
    "## wite @decorator name\n",
    "## and then define your function\n",
    "\n",
    "@main_welcome  ## decorator, the next defined function will go inside as a parameter\n",
    "def course_introduction():\n",
    "    print(\"Just trying the Decorators\")"
   ]
  },
  {
   "cell_type": "code",
   "execution_count": 38,
   "metadata": {},
   "outputs": [],
   "source": [
    "def myDecorator(func):\n",
    "    def wrapper():\n",
    "        print(\"Happening before the function\")\n",
    "        func()\n",
    "        print(\"Happening after the function\")\n",
    "    \n",
    "    return wrapper"
   ]
  },
  {
   "cell_type": "code",
   "execution_count": 39,
   "metadata": {},
   "outputs": [],
   "source": [
    "@myDecorator\n",
    "def prime():\n",
    "    print(\"1 is neither prime nor composite\")"
   ]
  },
  {
   "cell_type": "code",
   "execution_count": 40,
   "metadata": {},
   "outputs": [
    {
     "name": "stdout",
     "output_type": "stream",
     "text": [
      "Happening before the function\n",
      "1 is neither prime nor composite\n",
      "Happening after the function\n"
     ]
    }
   ],
   "source": [
    "prime()"
   ]
  },
  {
   "cell_type": "markdown",
   "metadata": {},
   "source": [
    "## Decorators with args"
   ]
  },
  {
   "cell_type": "code",
   "execution_count": 41,
   "metadata": {},
   "outputs": [],
   "source": [
    "def repeat(n):\n",
    "    def decorator(func):\n",
    "        def wrapper(*args, **kwargs):\n",
    "            for _ in range(n):\n",
    "                func(*args, **kwargs)\n",
    "        return wrapper\n",
    "    return decorator"
   ]
  },
  {
   "cell_type": "code",
   "execution_count": 42,
   "metadata": {},
   "outputs": [],
   "source": [
    "@repeat(3)\n",
    "def say_hello():\n",
    "    print(\"Hello.........\")"
   ]
  },
  {
   "cell_type": "code",
   "execution_count": 43,
   "metadata": {},
   "outputs": [
    {
     "name": "stdout",
     "output_type": "stream",
     "text": [
      "Hello.........\n",
      "Hello.........\n",
      "Hello.........\n"
     ]
    }
   ],
   "source": [
    "say_hello()"
   ]
  },
  {
   "cell_type": "code",
   "execution_count": null,
   "metadata": {},
   "outputs": [],
   "source": []
  }
 ],
 "metadata": {
  "kernelspec": {
   "display_name": "Python 3",
   "language": "python",
   "name": "python3"
  },
  "language_info": {
   "codemirror_mode": {
    "name": "ipython",
    "version": 3
   },
   "file_extension": ".py",
   "mimetype": "text/x-python",
   "name": "python",
   "nbconvert_exporter": "python",
   "pygments_lexer": "ipython3",
   "version": "3.12.6"
  }
 },
 "nbformat": 4,
 "nbformat_minor": 2
}
